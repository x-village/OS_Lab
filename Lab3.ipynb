{
 "cells": [
  {
   "cell_type": "markdown",
   "metadata": {
    "slideshow": {
     "slide_type": "slide"
    }
   },
   "source": [
    "## OS Lab3\n",
    "\n",
    "Memory profiler"
   ]
  },
  {
   "cell_type": "markdown",
   "metadata": {
    "slideshow": {
     "slide_type": "slide"
    }
   },
   "source": [
    "## 效能分析 (profiling)\n",
    "- 動態分析程式**執行中**的情況\n",
    "- 用於了解程式哪些部份可以做改善\n",
    "- 改善目標：減少執行時間/減少記憶體用量/..."
   ]
  },
  {
   "cell_type": "markdown",
   "metadata": {
    "slideshow": {
     "slide_type": "subslide"
    }
   },
   "source": [
    "## How profiler works\n",
    "- 插入紀錄用程式碼\n",
    "- 計時\n",
    "- 利用作業系統相關程式(如`top`)\n",
    "- 利用核心功能(如linux的`perf`)"
   ]
  },
  {
   "cell_type": "markdown",
   "metadata": {
    "slideshow": {
     "slide_type": "slide"
    }
   },
   "source": [
    "## Memory profiler in Python\n",
    "- 使用 `memory_profiler` 套件\n",
    "- `pip install memory_profiler`"
   ]
  },
  {
   "cell_type": "markdown",
   "metadata": {
    "slideshow": {
     "slide_type": "subslide"
    }
   },
   "source": [
    "## Profiling by function\n",
    "```python\n",
    "import time\n",
    "\n",
    "@profile\n",
    "def test1():\n",
    "    n = 10000\n",
    "    a = [1] * n\n",
    "    time.sleep(1)\n",
    "    return a\n",
    "\n",
    "@profile\n",
    "def test2():\n",
    "    n = 100000\n",
    "    b = [1] * n\n",
    "    time.sleep(1)\n",
    "    return b\n",
    "\n",
    "if __name__ == \"__main__\":\n",
    "    test1()\n",
    "    test2()\n",
    "\n",
    "```\n",
    "\n",
    "執行：`python3 -m memory_profiler profile.py`"
   ]
  },
  {
   "cell_type": "markdown",
   "metadata": {
    "slideshow": {
     "slide_type": "subslide"
    }
   },
   "source": [
    "## 結果\n",
    "```\n",
    "Line #    Mem usage    Increment   Line Contents\n",
    "================================================\n",
    "     3   31.266 MiB   31.266 MiB   @profile\n",
    "     4                             def test1():\n",
    "     5   31.266 MiB    0.000 MiB       n = 10000\n",
    "     6   31.523 MiB    0.258 MiB       a = [1] * n\n",
    "     7   31.523 MiB    0.000 MiB       time.sleep(1)\n",
    "     8   31.523 MiB    0.000 MiB       return a\n",
    "\n",
    "\n",
    "Filename: profile_fun.py\n",
    "\n",
    "Line #    Mem usage    Increment   Line Contents\n",
    "================================================\n",
    "    10   31.523 MiB   31.523 MiB   @profile\n",
    "    11                             def test2():\n",
    "    12   31.523 MiB    0.000 MiB       n = 100000\n",
    "    13   32.297 MiB    0.773 MiB       b = [1] * n\n",
    "    14   32.297 MiB    0.000 MiB       time.sleep(1)\n",
    "    15   32.297 MiB    0.000 MiB       return b\n",
    "\n",
    "```"
   ]
  },
  {
   "cell_type": "markdown",
   "metadata": {
    "slideshow": {
     "slide_type": "slide"
    }
   },
   "source": [
    "## Profiling whole program\n",
    "- 執行以下指令：`mprof run profile.py`\n",
    "- 有錯誤訊息的話可以嘗試：`mprof run --python python3 profile.py`"
   ]
  },
  {
   "cell_type": "markdown",
   "metadata": {
    "slideshow": {
     "slide_type": "subslide"
    }
   },
   "source": [
    "## 執行後用以下指令顯示分析圖\n",
    "`mprof plot`\n",
    "須安裝matplotlib"
   ]
  },
  {
   "cell_type": "markdown",
   "metadata": {
    "slideshow": {
     "slide_type": "subslide"
    }
   },
   "source": [
    "![](https://i.imgur.com/04TeMGO.png)"
   ]
  },
  {
   "cell_type": "markdown",
   "metadata": {
    "slideshow": {
     "slide_type": "slide"
    }
   },
   "source": [
    "## Practice"
   ]
  }
 ],
 "metadata": {
  "celltoolbar": "Slideshow",
  "kernelspec": {
   "display_name": "Python 3",
   "language": "python",
   "name": "python3"
  },
  "language_info": {
   "codemirror_mode": {
    "name": "ipython",
    "version": 3
   },
   "file_extension": ".py",
   "mimetype": "text/x-python",
   "name": "python",
   "nbconvert_exporter": "python",
   "pygments_lexer": "ipython3",
   "version": "3.6.5"
  }
 },
 "nbformat": 4,
 "nbformat_minor": 2
}
