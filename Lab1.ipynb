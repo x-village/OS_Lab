{
 "cells": [
  {
   "cell_type": "markdown",
   "metadata": {
    "slideshow": {
     "slide_type": "slide"
    }
   },
   "source": [
    "## OS Lab1\n",
    "\n",
    "Multi-thread and multi-process matrix multiplication in python"
   ]
  },
  {
   "cell_type": "markdown",
   "metadata": {
    "slideshow": {
     "slide_type": "slide"
    }
   },
   "source": [
    "## 基本矩陣乘法運算\n",
    "\n",
    "$$\\begin{bmatrix}\n",
    "a00 & a01\n",
    "\\\\a10 & a11\n",
    "\\\\a20 & a21\n",
    "\\end{bmatrix}\n",
    "\\times\n",
    "\\begin{bmatrix}\n",
    "b00 & b01 & b02\n",
    "\\\\b10 & b11 & b12\n",
    "\\end{bmatrix}\n",
    "=\n",
    "\\begin{bmatrix}\n",
    "ans00 & ans01 & ans02\n",
    "\\\\ans10 & ans11 & ans12\n",
    "\\\\ans20 & ans21 & ans22\n",
    "\\end{bmatrix}\n",
    "\\\\\n",
    "ans00=a00\\times b00+a01\\times b10\n",
    "\\\\\n",
    "ans01=a00\\times b01+a01\\times b11\n",
    "\\\\\n",
    "\\vdots\n",
    "$$"
   ]
  },
  {
   "cell_type": "markdown",
   "metadata": {
    "slideshow": {
     "slide_type": "subslide"
    }
   },
   "source": [
    "## 切割運算過程\n",
    "$$\\begin{bmatrix}\n",
    "a00 & a01\n",
    "\\end{bmatrix}\n",
    "\\times\n",
    "\\begin{bmatrix}\n",
    "b00 & b01 & b02\n",
    "\\\\b10 & b11 & b12\n",
    "\\end{bmatrix}\n",
    "=\n",
    "\\begin{bmatrix}\n",
    "ans00 & ans01 & ans02\n",
    "\\end{bmatrix}\n",
    "\\\\\n",
    "\\begin{bmatrix}\n",
    "a10 & a11\n",
    "\\end{bmatrix}\n",
    "\\times\n",
    "\\begin{bmatrix}\n",
    "b00 & b01 & b02\n",
    "\\\\b10 & b11 & b12\n",
    "\\end{bmatrix}\n",
    "=\n",
    "\\begin{bmatrix}\n",
    "ans10 & ans11 & ans12\n",
    "\\end{bmatrix}\n",
    "\\\\\n",
    "\\vdots\n",
    "$$"
   ]
  },
  {
   "cell_type": "markdown",
   "metadata": {
    "slideshow": {
     "slide_type": "subslide"
    }
   },
   "source": [
    "## 使用numpy作為容器"
   ]
  },
  {
   "cell_type": "code",
   "execution_count": 91,
   "metadata": {
    "slideshow": {
     "slide_type": "subslide"
    }
   },
   "outputs": [
    {
     "name": "stdout",
     "output_type": "stream",
     "text": [
      "Answer is correct: True\n"
     ]
    }
   ],
   "source": [
    "import numpy as np\n",
    "\n",
    "def main():\n",
    "    # Generate random matrix and result matrix\n",
    "    matA = np.random.randint(10, size = (10, 10))\n",
    "    matB = np.random.randint(10, size = (10, 10))\n",
    "    result = np.zeros((matA.shape[0], matB.shape[1]))\n",
    "    \n",
    "    for row in range(0, matA.shape[0]):\n",
    "        result[row] = np.matmul(matA[row], matB)\n",
    "\n",
    "    # Compare with numpy's multiplication result\n",
    "    print('Answer is correct:', np.all(np.matmul(matA, matB) == result))\n",
    "    \n",
    "if __name__ == \"__main__\":\n",
    "    main()\n"
   ]
  },
  {
   "cell_type": "markdown",
   "metadata": {
    "slideshow": {
     "slide_type": "slide"
    }
   },
   "source": [
    "## Multi-thread in python\n",
    "可用以下兩種方法：\n",
    "1. 繼承threading.Thread並override run()\n",
    "2. 生成Thread物件時將worker function及參數傳入"
   ]
  },
  {
   "cell_type": "code",
   "execution_count": 107,
   "metadata": {
    "slideshow": {
     "slide_type": "subslide"
    }
   },
   "outputs": [
    {
     "name": "stdout",
     "output_type": "stream",
     "text": [
      "0 x 3 = 0\n",
      "12 x 3 = 6\n",
      " x 3 = 3\n",
      "3 x 3 = 9\n"
     ]
    }
   ],
   "source": [
    "import threading\n",
    "\n",
    "def thread_func(num1, num2):\n",
    "    print(num1,'x',num2,'=',num1 * num2)\n",
    "\n",
    "def main():\n",
    "    # How many thread you want to use\n",
    "    thread_num = 4\n",
    "    threads = []\n",
    "\n",
    "    # Assign job to threads\n",
    "    for i in range(thread_num):\n",
    "        # Pass argument to function with tuple\n",
    "        thread = threading.Thread(target = thread_func, args = (i, 3))\n",
    "        threads.append(thread)\n",
    "\n",
    "    # run all threads\n",
    "    for thread in threads:\n",
    "        thread.start()\n",
    "\n",
    "    # Wait for threads finish\n",
    "    for thread in threads:\n",
    "        thread.join()\n",
    "\n",
    "if __name__ == \"__main__\":\n",
    "    main()\n"
   ]
  },
  {
   "cell_type": "markdown",
   "metadata": {
    "slideshow": {
     "slide_type": "subslide"
    }
   },
   "source": [
    "## Global Interpreter Lock\n",
    "每個Python Interpreter process僅佔用一個系統thread，因此不同python thread無法同時佔用CPU\n",
    "因此只有程式不是CPU-bound時(例如寫入檔案/網路連線等IO-bound)\n",
    "使用multi thread才能起到加速作用"
   ]
  },
  {
   "cell_type": "markdown",
   "metadata": {
    "slideshow": {
     "slide_type": "slide"
    }
   },
   "source": [
    "## Multi-process in python\n",
    "實做方法類似multi-thread，但由於不同process間彼此使用獨立的記憶體空間\n",
    "因此需要使用`multiprocessing`提供的`Queue`來傳遞訊息"
   ]
  },
  {
   "cell_type": "code",
   "execution_count": 123,
   "metadata": {
    "slideshow": {
     "slide_type": "subslide"
    }
   },
   "outputs": [
    {
     "name": "stdout",
     "output_type": "stream",
     "text": [
      "Process 0: 7\n",
      "Process 1: 1\n",
      "Process 3: 1\n",
      "Process 2: 0\n",
      "Process 4: 3\n",
      "Process 5: 4\n",
      "Process 6: 7\n",
      "Process 8: 3\n",
      "Process 7: 8\n",
      "Process 9: 8\n"
     ]
    }
   ],
   "source": [
    "import multiprocessing\n",
    "import random\n",
    "\n",
    "def thread_func(process_no, result_queue):\n",
    "    result_queue.put('Process ' + str(process_no) + ': ' + str(random.randint(0, 10)))\n",
    "\n",
    "def main():\n",
    "    # Generate queue for communication\n",
    "    result_queue = multiprocessing.Manager().Queue()\n",
    "\n",
    "    processes = 10\n",
    "    jobs = []\n",
    "\n",
    "    for i in range(processes):\n",
    "        process = multiprocessing.Process(target = thread_func, args = (i, result_queue))\n",
    "        jobs.append(process)\n",
    "\n",
    "    for process in jobs:\n",
    "        process.start()\n",
    "\n",
    "    for process in jobs:\n",
    "        process.join()\n",
    "\n",
    "    while not result_queue.empty():\n",
    "        result = result_queue.get()\n",
    "        print(result)\n",
    "\n",
    "if __name__ == \"__main__\":\n",
    "    main()\n"
   ]
  },
  {
   "cell_type": "markdown",
   "metadata": {
    "slideshow": {
     "slide_type": "slide"
    }
   },
   "source": [
    "## Timing in python\n",
    "透過計算程式執行時間，可以估計使用multi-thread和multi-process造成的效能影響"
   ]
  },
  {
   "cell_type": "code",
   "execution_count": 140,
   "metadata": {
    "slideshow": {
     "slide_type": "subslide"
    }
   },
   "outputs": [
    {
     "name": "stdout",
     "output_type": "stream",
     "text": [
      "Time elapsed:\t 0.04612612724304199\n"
     ]
    }
   ],
   "source": [
    "import time\n",
    "\n",
    "def main():\n",
    "    start_time = time.time()\n",
    "    \n",
    "    a = 0\n",
    "    for i in range(1000000):\n",
    "        a = a + 3\n",
    "\n",
    "    end_time = time.time()\n",
    "    print('Time elapsed:\\t', end_time - start_time)\n",
    "\n",
    "if __name__ == \"__main__\":\n",
    "    main()\n"
   ]
  },
  {
   "cell_type": "markdown",
   "metadata": {
    "slideshow": {
     "slide_type": "slide"
    }
   },
   "source": [
    "## Lab1-矩陣平行運算\n",
    "- 分別利用multi-thread和multi-process進行矩陣平行運算\n",
    "- 需要和`numpy`計算的結果做比對，確保答案正確\n",
    "- 需要計時，並和原本未使用thread或process加速的狀況做效能比較\n",
    "- 隨機產生 10x10 / 100x100 / 1000x1000 的矩陣進行測試，比對不同計算量下的效能提昇"
   ]
  }
 ],
 "metadata": {
  "celltoolbar": "Slideshow",
  "kernelspec": {
   "display_name": "Python 3",
   "language": "python",
   "name": "python3"
  },
  "language_info": {
   "codemirror_mode": {
    "name": "ipython",
    "version": 3
   },
   "file_extension": ".py",
   "mimetype": "text/x-python",
   "name": "python",
   "nbconvert_exporter": "python",
   "pygments_lexer": "ipython3",
   "version": "3.6.5"
  }
 },
 "nbformat": 4,
 "nbformat_minor": 2
}
